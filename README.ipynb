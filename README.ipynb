{
 "cells": [
  {
   "cell_type": "markdown",
   "metadata": {},
   "source": [
    "# Pandas_Alive\n",
    "\n",
    "Animated plotting extension for Pandas with Matplotlib\n",
    "\n",
    "[![Inline docs](http://inch-ci.org/github/dwyl/hapi-auth-jwt2.svg?branch=master)](https://jackmckew.github.io/pandas_alive/) [![PyPI download month](https://img.shields.io/pypi/dm/pandas_alive.svg)](https://pypi.python.org/pypi/pandas_alive/) [![PyPI version shields.io](https://img.shields.io/pypi/v/pandas_alive.svg)](https://pypi.python.org/pypi/pandas_alive/) [![PyPI license](https://img.shields.io/pypi/l/pandas_alive.svg)](https://pypi.python.org/pypi/pandas_alive/) [![saythanks](https://img.shields.io/badge/say-thanks-ff69b4.svg)](https://www.buymeacoffee.com/jackmckew)\n",
    "\n",
    "**Pandas_Alive** is intended to provide a plotting backend for animated [matplotlib](https://matplotlib.org/) charts for [Pandas](https://pandas.pydata.org/) DataFrames, similar to the already [existing Visualization feature of Pandas](https://pandas.pydata.org/pandas-docs/stable/visualization.html).\n",
    "\n",
    "With **Pandas_Alive**, creating stunning, animated visualisations is as easy as calling:\n",
    "\n",
    "`df.plot_animated()`\n",
    "\n",
    "![Example Bar Chart](examples/example-barh-chart.gif)"
   ]
  },
  {
   "cell_type": "markdown",
   "metadata": {},
   "source": [
    "## Table of Contents\n",
    "<!-- START doctoc -->\n",
    "<!-- END doctoc -->"
   ]
  },
  {
   "cell_type": "markdown",
   "metadata": {},
   "source": [
    "## Installation\n",
    "\n",
    "Install with `pip install pandas_alive`\n",
    "\n",
    "## Usage\n",
    "\n",
    "As this package builds upon [`bar_chart_race`](https://github.com/dexplo/bar_chart_race), the example data set is sourced from there.\n",
    "\n",
    "Must begin with a pandas DataFrame containing 'wide' data where:\n",
    "\n",
    "- Every row represents a single period of time\n",
    "- Each column holds the value for a particular category\n",
    "- The index contains the time component (optional)\n",
    "\n",
    "The data below is an example of properly formatted data. It shows total deaths from COVID-19 for the highest 20 countries by date.\n",
    "\n",
    "![Example Data Table](https://raw.githubusercontent.com/dexplo/bar_chart_race/master/images/wide_data.png)\n",
    "\n",
    "To produce the above visualisation:\n",
    "\n",
    "- Check [Requirements](#requirements) first to ensure you have the tooling installed!\n",
    "- Call `plot_animated()` on the DataFrame\n",
    "    - Either specify a file name to write to with `df.plot_animated(filename='example.mp4')` or use `df.plot_animated().get_html5_video` to return a HTML5 video\n",
    "- Done!"
   ]
  },
  {
   "cell_type": "code",
   "execution_count": null,
   "metadata": {},
   "outputs": [],
   "source": [
    "import pandas_alive\n",
    "\n",
    "covid_df = pandas_alive.load_dataset()\n",
    "\n",
    "covid_df.plot_animated(filename='examples/example-barh-chart.gif')"
   ]
  },
  {
   "cell_type": "markdown",
   "metadata": {},
   "source": [
    "### Currently Supported Chart Types\n",
    "\n",
    "#### Horizontal Bar Chart Races"
   ]
  },
  {
   "cell_type": "code",
   "execution_count": null,
   "metadata": {},
   "outputs": [],
   "source": [
    "import pandas as pd\n",
    "import pandas_alive\n",
    "\n",
    "elec_df = pd.read_csv(\"data/Aus_Elec_Gen_1980_2018.csv\",index_col=0,parse_dates=[0],thousands=',')\n",
    "\n",
    "elec_df.fillna(0).plot_animated('examples/example-electricity-generated-australia.gif',period_fmt=\"%Y\",title='Australian Electricity Generation Sources 1980-2018')"
   ]
  },
  {
   "cell_type": "markdown",
   "metadata": {},
   "source": [
    "![Electricity Example Line Chart](examples/example-electricity-generated-australia.gif)"
   ]
  },
  {
   "cell_type": "code",
   "execution_count": null,
   "metadata": {},
   "outputs": [],
   "source": [
    "import pandas_alive\n",
    "\n",
    "covid_df = pandas_alive.load_dataset()\n",
    "\n",
    "def current_total(values):\n",
    "    total = values.sum()\n",
    "    s = f'Total : {int(total)}'\n",
    "    return {'x': .85, 'y': .2, 's': s, 'ha': 'right', 'size': 11}\n",
    "\n",
    "covid_df.plot_animated(filename='examples/summary-func-example.gif',period_summary_func=current_total)"
   ]
  },
  {
   "cell_type": "markdown",
   "metadata": {},
   "source": [
    "![Summary Func Example](examples/summary-func-example.gif)"
   ]
  },
  {
   "cell_type": "code",
   "execution_count": null,
   "metadata": {},
   "outputs": [],
   "source": [
    "import pandas as pd\n",
    "import pandas_alive\n",
    "\n",
    "elec_df = pd.read_csv(\"data/Aus_Elec_Gen_1980_2018.csv\",index_col=0,parse_dates=[0],thousands=',')\n",
    "\n",
    "elec_df.fillna(0).plot_animated('examples/fixed-example.gif',period_fmt=\"%Y\",title='Australian Electricity Generation Sources 1980-2018',fixed_max=True,fixed_order=True)"
   ]
  },
  {
   "cell_type": "markdown",
   "metadata": {},
   "source": [
    "![Fixed Example](examples/fixed-example.gif)"
   ]
  },
  {
   "cell_type": "code",
   "execution_count": null,
   "metadata": {},
   "outputs": [],
   "source": [
    "import pandas_alive\n",
    "\n",
    "covid_df = pandas_alive.load_dataset()\n",
    "\n",
    "covid_df.plot_animated(filename='examples/perpendicular-example.gif',perpendicular_bar_func='mean')"
   ]
  },
  {
   "cell_type": "markdown",
   "metadata": {},
   "source": [
    "![Perpendicular Example](examples/perpendicular-example.gif)"
   ]
  },
  {
   "cell_type": "markdown",
   "metadata": {},
   "source": [
    "#### Vertical Bar Chart Races"
   ]
  },
  {
   "cell_type": "code",
   "execution_count": null,
   "metadata": {},
   "outputs": [],
   "source": [
    "import pandas_alive\n",
    "\n",
    "covid_df = pandas_alive.load_dataset()\n",
    "\n",
    "covid_df.plot_animated(filename='examples/example-barv-chart.gif',orientation='v')"
   ]
  },
  {
   "cell_type": "markdown",
   "metadata": {},
   "source": [
    "![Example Barv Chart](examples/example-barv-chart.gif)"
   ]
  },
  {
   "cell_type": "markdown",
   "metadata": {},
   "source": [
    "#### Line Charts\n",
    "\n",
    "With as many lines as data columns in the DataFrame."
   ]
  },
  {
   "cell_type": "code",
   "execution_count": null,
   "metadata": {},
   "outputs": [],
   "source": [
    "import pandas_alive\n",
    "\n",
    "covid_df = pandas_alive.load_dataset()\n",
    "\n",
    "covid_df.diff().fillna(0).plot_animated(filename='examples/example-line-chart.gif',kind='line',period_label={'x':0.1,'y':0.9})"
   ]
  },
  {
   "cell_type": "markdown",
   "metadata": {},
   "source": [
    "![Example Line Chart](examples/example-line-chart.gif)\n"
   ]
  },
  {
   "cell_type": "markdown",
   "metadata": {},
   "source": [
    "#### Bar Charts\n",
    "\n",
    "Similar to line charts with time as the x-axis"
   ]
  },
  {
   "cell_type": "code",
   "execution_count": null,
   "metadata": {},
   "outputs": [],
   "source": [
    "import pandas_alive\n",
    "\n",
    "covid_df = pandas_alive.load_dataset()\n",
    "\n",
    "covid_df.sum(axis=1).fillna(0).plot_animated(filename='examples/example-bar-chart.gif',kind='bar',period_label={'x':0.1,'y':0.9})"
   ]
  },
  {
   "cell_type": "markdown",
   "metadata": {},
   "source": [
    "![Example Bar Chart](examples/example-bar-chart.gif)"
   ]
  },
  {
   "cell_type": "markdown",
   "metadata": {},
   "source": [
    "#### Scatter Charts"
   ]
  },
  {
   "cell_type": "code",
   "execution_count": null,
   "metadata": {},
   "outputs": [],
   "source": [
    "import pandas as pd\n",
    "import pandas_alive\n",
    "\n",
    "max_temp_df = pd.read_csv(\n",
    "    \"data/Newcastle_Australia_Max_Temps.csv\",\n",
    "    parse_dates={\"Timestamp\": [\"Year\", \"Month\", \"Day\"]},\n",
    ")\n",
    "min_temp_df = pd.read_csv(\n",
    "    \"data/Newcastle_Australia_Min_Temps.csv\",\n",
    "    parse_dates={\"Timestamp\": [\"Year\", \"Month\", \"Day\"]},\n",
    ")\n",
    "\n",
    "merged_temp_df = pd.merge_asof(max_temp_df, min_temp_df, on=\"Timestamp\")\n",
    "\n",
    "merged_temp_df.index = pd.to_datetime(merged_temp_df[\"Timestamp\"].dt.strftime('%Y/%m/%d'))\n",
    "\n",
    "keep_columns = [\"Minimum temperature (Degree C)\", \"Maximum temperature (Degree C)\"]\n",
    "\n",
    "merged_temp_df[keep_columns].resample(\"Y\").mean().plot_animated(filename='examples/example-scatter-chart.gif',kind=\"scatter\",title='Max & Min Temperature Newcastle, Australia')\n"
   ]
  },
  {
   "cell_type": "markdown",
   "metadata": {},
   "source": [
    "![Example Scatter Chart](examples/example-scatter-chart.gif)"
   ]
  },
  {
   "cell_type": "markdown",
   "metadata": {},
   "source": [
    "#### Pie Charts"
   ]
  },
  {
   "cell_type": "code",
   "execution_count": null,
   "metadata": {},
   "outputs": [],
   "source": [
    "import pandas_alive\n",
    "\n",
    "covid_df = pandas_alive.load_dataset()\n",
    "\n",
    "covid_df.plot_animated(filename='examples/example-pie-chart.gif',kind=\"pie\",rotatelabels=True,period_label={'x':0,'y':0})"
   ]
  },
  {
   "cell_type": "markdown",
   "metadata": {},
   "source": [
    "![Example Pie Chart](examples/example-pie-chart.gif)"
   ]
  },
  {
   "cell_type": "markdown",
   "metadata": {},
   "source": [
    "#### Bubble Charts\n",
    "\n",
    "Bubble charts are generated from a multi-indexed dataframes. Where the index is the time period (optional) and the axes are defined with `x_data_label` & `y_data_label` which should be passed a string in the level 0 column labels.\n",
    "\n",
    "See an example multi-indexed dataframe at: <https://github.com/JackMcKew/pandas_alive/tree/master/data/multi.csv>"
   ]
  },
  {
   "cell_type": "code",
   "execution_count": null,
   "metadata": {},
   "outputs": [],
   "source": [
    "import pandas_alive\n",
    "\n",
    "multi_index_df = pd.read_csv(\"data/multi.csv\", header=[0, 1], index_col=0)\n",
    "\n",
    "multi_index_df.index = pd.to_datetime(multi_index_df.index,dayfirst=True)\n",
    "\n",
    "map_chart = multi_index_df.plot_animated(\n",
    "    kind=\"bubble\",\n",
    "    filename=\"examples/example-bubble-chart.gif\",\n",
    "    x_data_label=\"Longitude\",\n",
    "    y_data_label=\"Latitude\",\n",
    "    size_data_label=\"Cases\",\n",
    ")"
   ]
  },
  {
   "cell_type": "markdown",
   "metadata": {},
   "source": [
    "![Bubble Chart Example](examples/example-bubble-chart.gif)"
   ]
  },
  {
   "cell_type": "markdown",
   "metadata": {},
   "source": [
    "### Multiple Charts\n",
    "\n",
    "`pandas_alive` supports multiple animated charts in a single visualisation.\n",
    "\n",
    "- Create a list of all charts to include in animation\n",
    "- Use `animate_multiple_plots` with a `filename` and the list of charts (this will use `matplotlib.subplots`)\n",
    "- Done!"
   ]
  },
  {
   "cell_type": "code",
   "execution_count": null,
   "metadata": {},
   "outputs": [],
   "source": [
    "import pandas_alive\n",
    "\n",
    "covid_df = pandas_alive.load_dataset()\n",
    "\n",
    "animated_line_chart = covid_df.diff().fillna(0).plot_animated(kind='line',period_label=False)\n",
    "\n",
    "animated_bar_chart = covid_df.plot_animated(n_visible=10)\n",
    "\n",
    "pandas_alive.animate_multiple_plots('examples/example-bar-and-line-chart.gif',[animated_bar_chart,animated_line_chart])"
   ]
  },
  {
   "cell_type": "markdown",
   "metadata": {},
   "source": [
    "![Example Bar & Line Chart](examples/example-bar-and-line-chart.gif)"
   ]
  },
  {
   "cell_type": "markdown",
   "metadata": {},
   "source": [
    "#### Urban Population"
   ]
  },
  {
   "cell_type": "code",
   "execution_count": null,
   "metadata": {},
   "outputs": [],
   "source": [
    "import pandas_alive\n",
    "\n",
    "urban_df = pandas_alive.load_dataset(\"urban_pop\")\n",
    "\n",
    "animated_line_chart = (\n",
    "    urban_df.sum(axis=1)\n",
    "    .pct_change()\n",
    "    .dropna()\n",
    "    .mul(100)\n",
    "    .plot_animated(kind=\"line\", title=\"Total % Change in Population\",period_label=False)\n",
    ")\n",
    "\n",
    "animated_bar_chart = urban_df.plot_animated(n_visible=10,title='Top 10 Populous Countries',period_fmt=\"%Y\")\n",
    "\n",
    "pandas_alive.animate_multiple_plots('examples/example-bar-and-line-urban-chart.gif',[animated_bar_chart,animated_line_chart],title='Urban Population 1977 - 2018',adjust_subplot_top=0.85)"
   ]
  },
  {
   "cell_type": "markdown",
   "metadata": {},
   "source": [
    "![Urban Population Bar & Line Chart](examples/example-bar-and-line-urban-chart.gif)\n"
   ]
  },
  {
   "cell_type": "markdown",
   "metadata": {},
   "source": [
    "#### Life Expectancy in G7 Countries"
   ]
  },
  {
   "cell_type": "code",
   "execution_count": null,
   "metadata": {},
   "outputs": [],
   "source": [
    "import pandas_alive\n",
    "import pandas as pd\n",
    "\n",
    "data_raw = pd.read_csv(\n",
    "    \"https://raw.githubusercontent.com/owid/owid-datasets/master/datasets/Long%20run%20life%20expectancy%20-%20Gapminder%2C%20UN/Long%20run%20life%20expectancy%20-%20Gapminder%2C%20UN.csv\"\n",
    ")\n",
    "\n",
    "list_G7 = [\n",
    "    \"Canada\",\n",
    "    \"France\",\n",
    "    \"Germany\",\n",
    "    \"Italy\",\n",
    "    \"Japan\",\n",
    "    \"United Kingdom\",\n",
    "    \"United States\",\n",
    "]\n",
    "\n",
    "data_raw = data_raw.pivot(\n",
    "    index=\"Year\", columns=\"Entity\", values=\"Life expectancy (Gapminder, UN)\"\n",
    ")\n",
    "\n",
    "data = pd.DataFrame()\n",
    "data[\"Year\"] = data_raw.reset_index()[\"Year\"]\n",
    "for country in list_G7:\n",
    "    data[country] = data_raw[country].values\n",
    "\n",
    "data = data.fillna(method=\"pad\")\n",
    "data = data.fillna(0)\n",
    "data = data.set_index(\"Year\").loc[1900:].reset_index()\n",
    "\n",
    "data[\"Year\"] = pd.to_datetime(data.reset_index()[\"Year\"].astype(str))\n",
    "\n",
    "data = data.set_index(\"Year\")\n",
    "\n",
    "animated_bar_chart = data.plot_animated(\n",
    "    period_fmt=\"%Y\",perpendicular_bar_func=\"mean\", period_length=200,fixed_max=True\n",
    ")\n",
    "\n",
    "animated_line_chart = data.plot_animated(\n",
    "    kind=\"line\", period_fmt=\"%Y\", period_length=200,fixed_max=True\n",
    ")\n",
    "\n",
    "pandas_alive.animate_multiple_plots(\n",
    "    \"examples/life-expectancy.gif\",\n",
    "    plots=[animated_bar_chart, animated_line_chart],\n",
    "    title=\"Life expectancy in G7 countries up to 2015\",\n",
    "    adjust_subplot_left=0.2,\n",
    ")\n"
   ]
  },
  {
   "cell_type": "markdown",
   "metadata": {},
   "source": [
    "![Life Expectancy Chart](examples/life-expectancy.gif)"
   ]
  },
  {
   "cell_type": "markdown",
   "metadata": {},
   "source": [
    "### HTML 5 Videos\n",
    "\n",
    "`Pandas_Alive` supports rendering HTML5 videos through the use of `df.plot_animated().get_html5_video()`. `.get_html5_video` saves the animation as an h264 video, encoded in base64 directly into the HTML5 video tag. This respects the rc parameters for the writer as well as the bitrate. This also makes use of the interval to control the speed, and uses the repeat parameter to decide whether to loop.\n",
    "\n",
    "This is typically used in Jupyter notebooks."
   ]
  },
  {
   "cell_type": "code",
   "execution_count": null,
   "metadata": {
    "tags": [
     "outputPrepend"
    ]
   },
   "outputs": [],
   "source": [
    "import pandas_alive\n",
    "from IPython.display import HTML\n",
    "\n",
    "covid_df = pandas_alive.load_dataset()\n",
    "\n",
    "animated_html = covid_df.plot_animated().get_html5_video()\n",
    "\n",
    "HTML(animated_html)"
   ]
  },
  {
   "cell_type": "markdown",
   "metadata": {},
   "source": [
    "### Progress Bars!\n",
    "\n",
    "Generating animations can take some time, so enable progress bars by installing [tqdm](https://github.com/tqdm/tqdm) with `pip install tqdm` and using the keyword `enable_progress_bar=True`.\n",
    "\n",
    "By default Pandas_Alive will create a `tqdm` progress bar for the number of frames to animate, and update the progres bar after each frame."
   ]
  },
  {
   "cell_type": "code",
   "execution_count": null,
   "metadata": {},
   "outputs": [],
   "source": [
    "import pandas_alive\n",
    "\n",
    "covid_df = pandas_alive.load_dataset()\n",
    "\n",
    "covid_df.plot_animated(enable_progress_bar=True)"
   ]
  },
  {
   "cell_type": "markdown",
   "metadata": {},
   "source": [
    "Example of TQDM in action:\n",
    "\n",
    "![TQDM Example](https://raw.githubusercontent.com/tqdm/tqdm/master/images/tqdm.gif)"
   ]
  },
  {
   "cell_type": "markdown",
   "metadata": {},
   "source": [
    "## Future Features\n",
    "\n",
    "A list of future features that may/may not be developed is:\n",
    "\n",
    "- Geographic charts (currently using OSM export image, potential [geopandas](https://geopandas.org/))\n",
    "- ~~Loading bar support (potential [tqdm](https://github.com/tqdm/tqdm) or [alive-progress](https://github.com/rsalmei/alive-progress))~~\n",
    "\n",
    "A chart that was built using a development branch of Pandas_Alive is:\n",
    "\n",
    "[![NSW COVID19 Cases](examples/nsw-covid.gif)](https://www.youtube.com/watch?v=qyqiYrtpxRE)"
   ]
  },
  {
   "cell_type": "markdown",
   "metadata": {},
   "source": [
    "## Inspiration\n",
    "\n",
    "The inspiration for this project comes from:\n",
    "\n",
    "- [bar_chart_race](https://github.com/dexplo/bar_chart_race) by [Ted Petrou](https://github.com/tdpetrou)\n",
    "- [Pandas-Bokeh](https://github.com/PatrikHlobil/Pandas-Bokeh) by [Patrik Hlobil](https://github.com/PatrikHlobil)\n",
    "\n",
    "## Requirements\n",
    "\n",
    "If you get an error such as `TypeError: 'MovieWriterRegistry' object is not an iterator`, this signals there isn't a writer library installed on your machine.\n",
    "\n",
    "This package utilises the [matplotlib.animation function](https://matplotlib.org/3.2.1/api/animation_api.html), thus requiring a writer library.\n",
    "\n",
    "Ensure to have one of the supported tooling software installed prior to use!\n",
    "\n",
    "- [ffmpeg](https://ffmpeg.org/)\n",
    "- [ImageMagick](https://imagemagick.org/index.php)\n",
    "- See more at <https://matplotlib.org/3.2.1/api/animation_api.html#writer-classes>\n",
    "\n",
    "> Outputting to GIF file type is only supported by ImageMagick\n",
    "\n",
    "> Pillow is not supported currently, please submit a PR if you can make Pillow work!\n",
    "\n",
    "## Documentation\n",
    "\n",
    "Documentation is provided at <https://jackmckew.github.io/pandas_alive/>\n",
    "\n",
    "## Contributing\n",
    "\n",
    "Pull requests are welcome! Please help to cover more and more chart types!"
   ]
  },
  {
   "cell_type": "markdown",
   "metadata": {},
   "source": [
    "## [Changelog](CHANGELOG.md)"
   ]
  }
 ],
 "metadata": {
  "kernelspec": {
   "name": "python38164bitenvvenvda985b7f1856486192683202ff92d5bf",
   "display_name": "Python 3.8.1 64-bit ('.env': venv)"
  }
 },
 "nbformat": 4,
 "nbformat_minor": 4
}