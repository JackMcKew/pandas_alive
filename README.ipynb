{
 "cells": [
  {
   "cell_type": "markdown",
   "metadata": {},
   "source": [
    "# Pandas_Alive\n",
    "\n",
    "Animated plotting extension for Pandas with Matplotlib\n",
    "\n",
    "**Pandas_Alive** is intended to provide a plotting backend for animated [matplotlib](https://matplotlib.org/) charts for [Pandas](https://pandas.pydata.org/) DataFrames, similar to the already [existing Visualization feature of Pandas](https://pandas.pydata.org/pandas-docs/stable/visualization.html).\n",
    "\n",
    "With **Pandas_Alive**, creating stunning, animated visualisations is as easy as calling:\n",
    "\n",
    "`df.plot_animated()`\n",
    "\n",
    "![Example Bar Chart](examples/example-barh-chart.gif)"
   ]
  },
  {
   "cell_type": "markdown",
   "metadata": {},
   "source": [
    "## Installation\n",
    "\n",
    "Install with `pip install pandas_alive`\n",
    "\n",
    "## Usage\n",
    "\n",
    "As this package builds upon [`bar_chart_race`](https://github.com/dexplo/bar_chart_race), the example data set is sourced from there.\n",
    "\n",
    "Must begin with a pandas DataFrame containing 'wide' data where:\n",
    "\n",
    "- Every row represents a single period of time\n",
    "- Each column holds the value for a particular category\n",
    "- The index contains the time component (optional)\n",
    "\n",
    "The data below is an example of properly formatted data. It shows total deaths from COVID-19 for the highest 20 countries by date.\n",
    "\n",
    "![Example Data Table](https://raw.githubusercontent.com/dexplo/bar_chart_race/master/images/wide_data.png)\n",
    "[Example Table](examples/example_dataset_table.md)\n",
    "\n",
    "To produce the above visualisation:\n",
    "\n",
    "- Check [Requirements](#requirements) first to ensure you have the tooling installed!\n",
    "- Call `plot_animated()` on the DataFrame\n",
    "    - Either specify a file name to write to with `df.plot_animated(filename='example.mp4')` or use `df.plot_animated().get_html5_video` to return a HTML5 video\n",
    "- Done!"
   ]
  },
  {
   "cell_type": "code",
   "execution_count": 1,
   "metadata": {},
   "outputs": [
    {
     "output_type": "stream",
     "name": "stdout",
     "text": "Generating BarChart, plotting ['Belgium', 'Brazil', 'Canada', 'China', 'France', 'Germany', 'India', 'Indonesia', 'Iran', 'Ireland', 'Italy', 'Mexico', 'Netherlands', 'Portugal', 'Spain', 'Sweden', 'Switzerland', 'Turkey', 'USA', 'United Kingdom']\n"
    },
    {
     "output_type": "execute_result",
     "data": {
      "text/plain": "BarChart(df=                     Belgium  Brazil  Canada   China   France  Germany  India  \\\ndate                                                                            \n2020-02-26 00:00:00      NaN     NaN     NaN  2717.0      2.0      NaN    NaN   \n2020-02-26 02:24:00      NaN     NaN     NaN  2719.9      2.0      NaN    NaN   \n2020-02-26 04:48:00      NaN     NaN     NaN  2722.8      2.0      NaN    NaN   \n2020-02-26 07:12:00      NaN     NaN     NaN  2725.7      2.0      NaN    NaN   \n2020-02-26 09:36:00      NaN     NaN     NaN  2728.6      2.0      NaN    NaN   \n...                      ...     ...     ...     ...      ...      ...    ...   \n2020-04-21 14:24:00   6156.4  2840.0  2008.2  4636.0  21155.4   5180.6  666.6   \n2020-04-21 16:48:00   6182.8  2856.5  2024.9  4636.0  21209.8   5205.2  670.2   \n2020-04-21 19:12:00   6209.2  2873.0  2041.6  4636.0  21264.2   5229.8  673.8   \n2020-04-21 21:36:00   6235.6  2889.5  2058.3  4636.0  21318.6   5254.4  677.4   \n2020-04-22 00:00:00   6262.0  2906.0  2075.0  4636.0  21373.0   5279.0  681.0   \n\n                     Indonesia    Iran  Ireland    Italy  Mexico  Netherlands  \\\ndate                                                                            \n2020-02-26 00:00:00        NaN    19.0      NaN     12.0     NaN          NaN   \n2020-02-26 02:24:00        NaN    19.7      NaN     12.5     NaN          NaN   \n2020-02-26 04:48:00        NaN    20.4      NaN     13.0     NaN          NaN   \n2020-02-26 07:12:00        NaN    21.1      NaN     13.5     NaN          NaN   \n2020-02-26 09:36:00        NaN    21.8      NaN     14.0     NaN          NaN   \n...                        ...     ...      ...      ...     ...          ...   \n2020-04-21 14:24:00      627.4  5353.4    753.4  24910.2   799.0       4012.4   \n2020-04-21 16:48:00      629.3  5362.8    757.3  24953.9   813.5       4026.3   \n2020-04-21 19:12:00      631.2  5372.2    761.2  24997.6   828.0       4040.2   \n2020-04-21 21:36:00      633.1  5381.6    765.1  25041.3   842.5       4054.1   \n2020-04-22 00:00:00      635.0  5391.0    769.0  25085.0   857.0       4068.0   \n\n                     Portugal    Spain  Sweden  Switzerland  Turkey      USA  \\\ndate                                                                           \n2020-02-26 00:00:00       NaN      NaN     NaN          NaN     NaN      NaN   \n2020-02-26 02:24:00       NaN      NaN     NaN          NaN     NaN      NaN   \n2020-02-26 04:48:00       NaN      NaN     NaN          NaN     NaN      NaN   \n2020-02-26 07:12:00       NaN      NaN     NaN          NaN     NaN      NaN   \n2020-02-26 09:36:00       NaN      NaN     NaN          NaN     NaN      NaN   \n...                       ...      ...     ...          ...     ...      ...   \n2020-04-21 14:24:00     775.8  21543.0  1868.2       1496.6  2329.2  45755.6   \n2020-04-21 16:48:00     778.1  21586.5  1885.4       1499.7  2340.9  45973.7   \n2020-04-21 19:12:00     780.4  21630.0  1902.6       1502.8  2352.6  46191.8   \n2020-04-21 21:36:00     782.7  21673.5  1919.8       1505.9  2364.3  46409.9   \n2020-04-22 00:00:00     785.0  21717.0  1937.0       1509.0  2376.0  46628.0   \n\n                     United Kingdom  \ndate                                 \n2020-02-26 00:00:00             NaN  \n2020-02-26 02:24:00             NaN  \n2020-02-26 04:48:00             NaN  \n2020-02-26 07:12:00             NaN  \n2020-02-26 09:36:00             NaN  \n...                             ...  \n2020-04-21 14:24:00         17841.8  \n2020-04-21 16:48:00         17919.1  \n2020-04-21 19:12:00         17996.4  \n2020-04-21 21:36:00         18073.7  \n2020-04-22 00:00:00         18151.0  \n\n[561 rows x 20 columns], interpolate_period=True, steps_per_period=10, period_length=500, period_fmt='%d/%m/%Y', figsize=array([7.18229167, 3.5       ]), title=None, fig=<Figure size 1034x504 with 1 Axes>, cmap='dark24', tick_label_size=7, period_label=True, dpi=144, kwargs={}, orientation='h', sort='desc', label_bars=True, bar_label_size=7, n_visible=20)"
     },
     "metadata": {},
     "execution_count": 1
    }
   ],
   "source": [
    "import pandas_alive\n",
    "\n",
    "covid_df = pandas_alive.load_dataset()\n",
    "\n",
    "covid_df.plot_animated(filename='examples/example-barh-chart.gif')"
   ]
  },
  {
   "cell_type": "markdown",
   "metadata": {},
   "source": [
    "### Currently Supported Chart Types\n",
    "\n",
    "`pandas_alive` current supports:\n",
    "\n",
    "- [Horizontal Bar Charts](#horizontal-bar-charts)\n",
    "- [Vertical Bar Charts](#vertical-bar-charts)\n",
    "- [Line Charts](#line-charts)\n",
    "\n",
    "#### Horizontal Bar Charts"
   ]
  },
  {
   "cell_type": "code",
   "execution_count": 2,
   "metadata": {},
   "outputs": [
    {
     "output_type": "stream",
     "name": "stdout",
     "text": "Generating BarChart, plotting ['Belgium', 'Brazil', 'Canada', 'China', 'France', 'Germany', 'India', 'Indonesia', 'Iran', 'Ireland', 'Italy', 'Mexico', 'Netherlands', 'Portugal', 'Spain', 'Sweden', 'Switzerland', 'Turkey', 'USA', 'United Kingdom']\n"
    },
    {
     "output_type": "execute_result",
     "data": {
      "text/plain": "BarChart(df=                     Belgium  Brazil  Canada   China   France  Germany  India  \\\ndate                                                                            \n2020-02-26 00:00:00      NaN     NaN     NaN  2717.0      2.0      NaN    NaN   \n2020-02-26 02:24:00      NaN     NaN     NaN  2719.9      2.0      NaN    NaN   \n2020-02-26 04:48:00      NaN     NaN     NaN  2722.8      2.0      NaN    NaN   \n2020-02-26 07:12:00      NaN     NaN     NaN  2725.7      2.0      NaN    NaN   \n2020-02-26 09:36:00      NaN     NaN     NaN  2728.6      2.0      NaN    NaN   \n...                      ...     ...     ...     ...      ...      ...    ...   \n2020-04-21 14:24:00   6156.4  2840.0  2008.2  4636.0  21155.4   5180.6  666.6   \n2020-04-21 16:48:00   6182.8  2856.5  2024.9  4636.0  21209.8   5205.2  670.2   \n2020-04-21 19:12:00   6209.2  2873.0  2041.6  4636.0  21264.2   5229.8  673.8   \n2020-04-21 21:36:00   6235.6  2889.5  2058.3  4636.0  21318.6   5254.4  677.4   \n2020-04-22 00:00:00   6262.0  2906.0  2075.0  4636.0  21373.0   5279.0  681.0   \n\n                     Indonesia    Iran  Ireland    Italy  Mexico  Netherlands  \\\ndate                                                                            \n2020-02-26 00:00:00        NaN    19.0      NaN     12.0     NaN          NaN   \n2020-02-26 02:24:00        NaN    19.7      NaN     12.5     NaN          NaN   \n2020-02-26 04:48:00        NaN    20.4      NaN     13.0     NaN          NaN   \n2020-02-26 07:12:00        NaN    21.1      NaN     13.5     NaN          NaN   \n2020-02-26 09:36:00        NaN    21.8      NaN     14.0     NaN          NaN   \n...                        ...     ...      ...      ...     ...          ...   \n2020-04-21 14:24:00      627.4  5353.4    753.4  24910.2   799.0       4012.4   \n2020-04-21 16:48:00      629.3  5362.8    757.3  24953.9   813.5       4026.3   \n2020-04-21 19:12:00      631.2  5372.2    761.2  24997.6   828.0       4040.2   \n2020-04-21 21:36:00      633.1  5381.6    765.1  25041.3   842.5       4054.1   \n2020-04-22 00:00:00      635.0  5391.0    769.0  25085.0   857.0       4068.0   \n\n                     Portugal    Spain  Sweden  Switzerland  Turkey      USA  \\\ndate                                                                           \n2020-02-26 00:00:00       NaN      NaN     NaN          NaN     NaN      NaN   \n2020-02-26 02:24:00       NaN      NaN     NaN          NaN     NaN      NaN   \n2020-02-26 04:48:00       NaN      NaN     NaN          NaN     NaN      NaN   \n2020-02-26 07:12:00       NaN      NaN     NaN          NaN     NaN      NaN   \n2020-02-26 09:36:00       NaN      NaN     NaN          NaN     NaN      NaN   \n...                       ...      ...     ...          ...     ...      ...   \n2020-04-21 14:24:00     775.8  21543.0  1868.2       1496.6  2329.2  45755.6   \n2020-04-21 16:48:00     778.1  21586.5  1885.4       1499.7  2340.9  45973.7   \n2020-04-21 19:12:00     780.4  21630.0  1902.6       1502.8  2352.6  46191.8   \n2020-04-21 21:36:00     782.7  21673.5  1919.8       1505.9  2364.3  46409.9   \n2020-04-22 00:00:00     785.0  21717.0  1937.0       1509.0  2376.0  46628.0   \n\n                     United Kingdom  \ndate                                 \n2020-02-26 00:00:00             NaN  \n2020-02-26 02:24:00             NaN  \n2020-02-26 04:48:00             NaN  \n2020-02-26 07:12:00             NaN  \n2020-02-26 09:36:00             NaN  \n...                             ...  \n2020-04-21 14:24:00         17841.8  \n2020-04-21 16:48:00         17919.1  \n2020-04-21 19:12:00         17996.4  \n2020-04-21 21:36:00         18073.7  \n2020-04-22 00:00:00         18151.0  \n\n[561 rows x 20 columns], interpolate_period=True, steps_per_period=10, period_length=500, period_fmt='%d/%m/%Y', figsize=array([7.18229167, 3.5       ]), title=None, fig=<Figure size 1034x504 with 1 Axes>, cmap='dark24', tick_label_size=7, period_label=True, dpi=144, kwargs={}, orientation='h', sort='desc', label_bars=True, bar_label_size=7, n_visible=20)"
     },
     "metadata": {},
     "execution_count": 2
    }
   ],
   "source": [
    "import pandas_alive\n",
    "\n",
    "covid_df = pandas_alive.load_dataset()\n",
    "\n",
    "covid_df.plot_animated(filename='example-barh-chart.gif')"
   ]
  },
  {
   "cell_type": "markdown",
   "metadata": {},
   "source": [
    "![Example Barh Chart](examples/example-barh-chart.gif)\n",
    "\n",
    "#### Vertical Bar Charts"
   ]
  },
  {
   "cell_type": "code",
   "execution_count": 3,
   "metadata": {},
   "outputs": [
    {
     "output_type": "stream",
     "name": "stdout",
     "text": "Generating BarChart, plotting ['Belgium', 'Brazil', 'Canada', 'China', 'France', 'Germany', 'India', 'Indonesia', 'Iran', 'Ireland', 'Italy', 'Mexico', 'Netherlands', 'Portugal', 'Spain', 'Sweden', 'Switzerland', 'Turkey', 'USA', 'United Kingdom']\n"
    },
    {
     "output_type": "execute_result",
     "data": {
      "text/plain": "BarChart(df=                     Belgium  Brazil  Canada   China   France  Germany  India  \\\ndate                                                                            \n2020-02-26 00:00:00      NaN     NaN     NaN  2717.0      2.0      NaN    NaN   \n2020-02-26 02:24:00      NaN     NaN     NaN  2719.9      2.0      NaN    NaN   \n2020-02-26 04:48:00      NaN     NaN     NaN  2722.8      2.0      NaN    NaN   \n2020-02-26 07:12:00      NaN     NaN     NaN  2725.7      2.0      NaN    NaN   \n2020-02-26 09:36:00      NaN     NaN     NaN  2728.6      2.0      NaN    NaN   \n...                      ...     ...     ...     ...      ...      ...    ...   \n2020-04-21 14:24:00   6156.4  2840.0  2008.2  4636.0  21155.4   5180.6  666.6   \n2020-04-21 16:48:00   6182.8  2856.5  2024.9  4636.0  21209.8   5205.2  670.2   \n2020-04-21 19:12:00   6209.2  2873.0  2041.6  4636.0  21264.2   5229.8  673.8   \n2020-04-21 21:36:00   6235.6  2889.5  2058.3  4636.0  21318.6   5254.4  677.4   \n2020-04-22 00:00:00   6262.0  2906.0  2075.0  4636.0  21373.0   5279.0  681.0   \n\n                     Indonesia    Iran  Ireland    Italy  Mexico  Netherlands  \\\ndate                                                                            \n2020-02-26 00:00:00        NaN    19.0      NaN     12.0     NaN          NaN   \n2020-02-26 02:24:00        NaN    19.7      NaN     12.5     NaN          NaN   \n2020-02-26 04:48:00        NaN    20.4      NaN     13.0     NaN          NaN   \n2020-02-26 07:12:00        NaN    21.1      NaN     13.5     NaN          NaN   \n2020-02-26 09:36:00        NaN    21.8      NaN     14.0     NaN          NaN   \n...                        ...     ...      ...      ...     ...          ...   \n2020-04-21 14:24:00      627.4  5353.4    753.4  24910.2   799.0       4012.4   \n2020-04-21 16:48:00      629.3  5362.8    757.3  24953.9   813.5       4026.3   \n2020-04-21 19:12:00      631.2  5372.2    761.2  24997.6   828.0       4040.2   \n2020-04-21 21:36:00      633.1  5381.6    765.1  25041.3   842.5       4054.1   \n2020-04-22 00:00:00      635.0  5391.0    769.0  25085.0   857.0       4068.0   \n\n                     Portugal    Spain  Sweden  Switzerland  Turkey      USA  \\\ndate                                                                           \n2020-02-26 00:00:00       NaN      NaN     NaN          NaN     NaN      NaN   \n2020-02-26 02:24:00       NaN      NaN     NaN          NaN     NaN      NaN   \n2020-02-26 04:48:00       NaN      NaN     NaN          NaN     NaN      NaN   \n2020-02-26 07:12:00       NaN      NaN     NaN          NaN     NaN      NaN   \n2020-02-26 09:36:00       NaN      NaN     NaN          NaN     NaN      NaN   \n...                       ...      ...     ...          ...     ...      ...   \n2020-04-21 14:24:00     775.8  21543.0  1868.2       1496.6  2329.2  45755.6   \n2020-04-21 16:48:00     778.1  21586.5  1885.4       1499.7  2340.9  45973.7   \n2020-04-21 19:12:00     780.4  21630.0  1902.6       1502.8  2352.6  46191.8   \n2020-04-21 21:36:00     782.7  21673.5  1919.8       1505.9  2364.3  46409.9   \n2020-04-22 00:00:00     785.0  21717.0  1937.0       1509.0  2376.0  46628.0   \n\n                     United Kingdom  \ndate                                 \n2020-02-26 00:00:00             NaN  \n2020-02-26 02:24:00             NaN  \n2020-02-26 04:48:00             NaN  \n2020-02-26 07:12:00             NaN  \n2020-02-26 09:36:00             NaN  \n...                             ...  \n2020-04-21 14:24:00         17841.8  \n2020-04-21 16:48:00         17919.1  \n2020-04-21 19:12:00         17996.4  \n2020-04-21 21:36:00         18073.7  \n2020-04-22 00:00:00         18151.0  \n\n[561 rows x 20 columns], interpolate_period=True, steps_per_period=10, period_length=500, period_fmt='%d/%m/%Y', figsize=array([6.85416667, 3.84114583]), title=None, fig=<Figure size 986x552 with 1 Axes>, cmap='dark24', tick_label_size=7, period_label=True, dpi=144, kwargs={}, orientation='v', sort='desc', label_bars=True, bar_label_size=7, n_visible=20)"
     },
     "metadata": {},
     "execution_count": 3
    }
   ],
   "source": [
    "import pandas_alive\n",
    "\n",
    "covid_df = pandas_alive.load_dataset()\n",
    "\n",
    "covid_df.plot_animated(filename='examples/example-barv-chart.gif',orientation='v')"
   ]
  },
  {
   "cell_type": "markdown",
   "metadata": {},
   "source": [
    "![Example Barv Chart](examples/example-barv-chart.gif)\n",
    "\n",
    "#### Line Charts\n",
    "\n",
    "With as many lines as data columns in the DataFrame."
   ]
  },
  {
   "cell_type": "code",
   "execution_count": 4,
   "metadata": {},
   "outputs": [
    {
     "output_type": "stream",
     "name": "stdout",
     "text": "Generating LineChart, plotting ['Belgium', 'Brazil', 'Canada', 'China', 'France', 'Germany', 'India', 'Indonesia', 'Iran', 'Ireland', 'Italy', 'Mexico', 'Netherlands', 'Portugal', 'Spain', 'Sweden', 'Switzerland', 'Turkey', 'USA', 'United Kingdom']\n"
    },
    {
     "output_type": "execute_result",
     "data": {
      "text/plain": "LineChart(df=                     Belgium  Brazil  Canada  China  France  Germany  India  \\\ndate                                                                          \n2020-02-26 00:00:00      0.0     0.0     0.0    0.0     0.0      0.0    0.0   \n2020-02-26 02:24:00      0.0     0.0     0.0    2.9     0.0      0.0    0.0   \n2020-02-26 04:48:00      0.0     0.0     0.0    5.8     0.0      0.0    0.0   \n2020-02-26 07:12:00      0.0     0.0     0.0    8.7     0.0      0.0    0.0   \n2020-02-26 09:36:00      0.0     0.0     0.0   11.6     0.0      0.0    0.0   \n...                      ...     ...     ...    ...     ...      ...    ...   \n2020-04-21 14:24:00    226.4   160.6   173.4    0.0   541.2    216.0   42.8   \n2020-04-21 16:48:00    235.8   161.7   171.8    0.0   541.9    223.5   41.1   \n2020-04-21 19:12:00    245.2   162.8   170.2    0.0   542.6    231.0   39.4   \n2020-04-21 21:36:00    254.6   163.9   168.6    0.0   543.3    238.5   37.7   \n2020-04-22 00:00:00    264.0   165.0   167.0    0.0   544.0    246.0   36.0   \n\n                     Indonesia  Iran  Ireland  Italy  Mexico  Netherlands  \\\ndate                                                                        \n2020-02-26 00:00:00        0.0   0.0      0.0    0.0     0.0          0.0   \n2020-02-26 02:24:00        0.0   0.7      0.0    0.5     0.0          0.0   \n2020-02-26 04:48:00        0.0   1.4      0.0    1.0     0.0          0.0   \n2020-02-26 07:12:00        0.0   2.1      0.0    1.5     0.0          0.0   \n2020-02-26 09:36:00        0.0   2.8      0.0    2.0     0.0          0.0   \n...                        ...   ...      ...    ...     ...          ...   \n2020-04-21 14:24:00       21.8  91.6     40.6  475.8    97.4        149.4   \n2020-04-21 16:48:00       21.1  92.2     40.2  466.1   109.3        146.8   \n2020-04-21 19:12:00       20.4  92.8     39.8  456.4   121.2        144.2   \n2020-04-21 21:36:00       19.7  93.4     39.4  446.7   133.1        141.6   \n2020-04-22 00:00:00       19.0  94.0     39.0  437.0   145.0        139.0   \n\n                     Portugal  Spain  Sweden  Switzerland  Turkey     USA  \\\ndate                                                                        \n2020-02-26 00:00:00       0.0    0.0     0.0          0.0     0.0     0.0   \n2020-02-26 02:24:00       0.0    0.0     0.0          0.0     0.0     0.0   \n2020-02-26 04:48:00       0.0    0.0     0.0          0.0     0.0     0.0   \n2020-02-26 07:12:00       0.0    0.0     0.0          0.0     0.0     0.0   \n2020-02-26 09:36:00       0.0    0.0     0.0          0.0     0.0     0.0   \n...                       ...    ...     ...          ...     ...     ...   \n2020-04-21 14:24:00      24.6  433.0   177.2         38.2   117.8  2248.6   \n2020-04-21 16:48:00      24.2  433.5   175.9         36.4   117.6  2231.7   \n2020-04-21 19:12:00      23.8  434.0   174.6         34.6   117.4  2214.8   \n2020-04-21 21:36:00      23.4  434.5   173.3         32.8   117.2  2197.9   \n2020-04-22 00:00:00      23.0  435.0   172.0         31.0   117.0  2181.0   \n\n                     United Kingdom  \ndate                                 \n2020-02-26 00:00:00             0.0  \n2020-02-26 02:24:00             0.0  \n2020-02-26 04:48:00             0.0  \n2020-02-26 07:12:00             0.0  \n2020-02-26 09:36:00             0.0  \n...                             ...  \n2020-04-21 14:24:00           795.0  \n2020-04-21 16:48:00           789.5  \n2020-04-21 19:12:00           784.0  \n2020-04-21 21:36:00           778.5  \n2020-04-22 00:00:00           773.0  \n\n[561 rows x 20 columns], interpolate_period=True, steps_per_period=10, period_length=500, period_fmt='%d/%m/%Y', figsize=array([6.78819444, 3.5       ]), title=None, fig=<Figure size 976x504 with 1 Axes>, cmap='dark24', tick_label_size=7, period_label=True, dpi=144, kwargs={}, line_width=2)"
     },
     "metadata": {},
     "execution_count": 4
    }
   ],
   "source": [
    "import pandas_alive\n",
    "\n",
    "covid_df = pandas_alive.load_dataset()\n",
    "\n",
    "covid_df.diff().fillna(0).plot_animated(filename='examples/example-line-chart.gif',kind='line')"
   ]
  },
  {
   "cell_type": "markdown",
   "metadata": {},
   "source": [
    "![Example Line Chart](examples/example-line-chart.gif)\n",
    "\n",
    "### Multiple Charts\n",
    "\n",
    "`pandas_alive` supports multiple animated charts in a single visualisation.\n",
    "\n",
    "- Create a list of all charts to include in animation\n",
    "- Use `animate_multiple_plots` with a `filename` and the list of charts (this will use `matplotlib.subplots`)\n",
    "- Done!"
   ]
  },
  {
   "cell_type": "code",
   "execution_count": null,
   "metadata": {},
   "outputs": [],
   "source": [
    "import pandas_alive\n",
    "\n",
    "covid_df = pandas_alive.load_dataset()\n",
    "\n",
    "animated_line_chart = covid_df.diff().fillna(0).plot_animated(kind='line',period_label=False)\n",
    "\n",
    "animated_bar_chart = covid_df.plot_animated(kind='barh',n_visible=10)\n",
    "\n",
    "pandas_alive.animate_multiple_plots('examples/example-bar-and-line-chart.gif',[animated_bar_chart,animated_line_chart])"
   ]
  },
  {
   "cell_type": "markdown",
   "metadata": {},
   "source": [
    "![Example Bar & Line Chart](examples/example-bar-and-line-chart.gif)"
   ]
  },
  {
   "cell_type": "code",
   "execution_count": 6,
   "metadata": {},
   "outputs": [
    {
     "output_type": "stream",
     "name": "stdout",
     "text": "Generating LineChart, plotting ['0']\nGenerating BarChart, plotting ['United States', 'India', 'China', 'Ethiopia', 'Poland', 'Malaysia', 'Peru', 'Venezuela', 'Iraq', 'Saudi Arabia', 'Canada', 'Algeria', 'Ukraine', 'Vietnam', 'Thailand', 'Congo, Dem. Rep.', 'Spain', 'South Africa', 'Colombia', 'Argentina', 'Egypt', 'South Korea', 'Italy', 'Philippines', 'France', 'United Kingdom', 'Bangladesh', 'Iran', 'Turkey', 'Germany', 'Pakistan', 'Nigeria', 'Mexico', 'Russia', 'Japan', 'Indonesia', 'Brazil']\n"
    }
   ],
   "source": [
    "import pandas_alive\n",
    "\n",
    "urban_df = pandas_alive.load_dataset(\"urban_pop\")\n",
    "\n",
    "animated_line_chart = (\n",
    "    urban_df.sum(axis=1)\n",
    "    .pct_change()\n",
    "    .dropna()\n",
    "    .mul(100)\n",
    "    .plot_animated(kind=\"line\", title=\"Total % Change in Population\",period_label=False)\n",
    ")\n",
    "\n",
    "animated_bar_chart = urban_df.plot_animated(kind='barh',n_visible=10,title='Top 10 Populous Countries')\n",
    "\n",
    "pandas_alive.animate_multiple_plots('examples/example-bar-and-line-urban-chart.gif',[animated_bar_chart,animated_line_chart],title='Urban Population 1977 - 2018')"
   ]
  },
  {
   "cell_type": "markdown",
   "metadata": {},
   "source": [
    "![Urban Population Bar & Line Chart](examples/example-bar-and-line-urban-chart.gif)\n",
    "\n",
    "## Inspiration\n",
    "\n",
    "The inspiration for this project comes from:\n",
    "\n",
    "- [bar_chart_race](https://github.com/dexplo/bar_chart_race) by [Ted Petrou](https://github.com/tdpetrou)\n",
    "- [Pandas-Bokeh](https://github.com/PatrikHlobil/Pandas-Bokeh) by [Patrik Hlobil](https://github.com/PatrikHlobil)\n",
    "\n",
    "## Requirements\n",
    "\n",
    "If you get an error such as `TypeError: 'MovieWriterRegistry' object is not an iterator`, this signals there isn't a writer library installed on your machine.\n",
    "\n",
    "This package utilises the [matplotlib.animation function](https://matplotlib.org/3.2.1/api/animation_api.html), thus requiring a writer library.\n",
    "\n",
    "Ensure to have one of the supported tooling software installed prior to use!\n",
    "\n",
    "- [ffmpeg](https://ffmpeg.org/)\n",
    "- [ImageMagick](https://imagemagick.org/index.php)\n",
    "- [Pillow](https://pillow.readthedocs.io/en/stable/)\n",
    "- See more at <https://matplotlib.org/3.2.1/api/animation_api.html#writer-classes>\n",
    "\n",
    "## Documentation\n",
    "\n",
    "Documentation is provided at <https://jackmckew.github.io/pandas_alive/>\n",
    "\n",
    "## Contributing\n",
    "\n",
    "Pull requests are welcome! Please help to cover more and more chart types!"
   ]
  }
 ],
 "metadata": {
  "kernelspec": {
   "name": "python38164bitenvvenvda985b7f1856486192683202ff92d5bf",
   "display_name": "Python 3.8.1 64-bit ('.env': venv)"
  }
 },
 "nbformat": 4,
 "nbformat_minor": 4
}