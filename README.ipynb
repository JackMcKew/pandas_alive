{
 "cells": [
  {
   "cell_type": "markdown",
   "metadata": {},
   "source": [
    "# Pandas_Alive\n",
    "\n",
    "Animated plotting extension for Pandas with Matplotlib\n",
    "\n",
    "[![Inline docs](http://inch-ci.org/github/dwyl/hapi-auth-jwt2.svg?branch=master)](https://jackmckew.github.io/pandas_alive/) ![Interrogate Coverage](badges/interrogate_badge.svg) [![Downloads](https://pepy.tech/badge/pandas-alive/month)](https://pepy.tech/project/pandas-alive/month) [![PyPI version shields.io](https://img.shields.io/pypi/v/pandas_alive.svg)](https://pypi.python.org/pypi/pandas_alive/) [![PyPI license](https://img.shields.io/pypi/l/pandas_alive.svg)](https://pypi.python.org/pypi/pandas_alive/) [![saythanks](https://img.shields.io/badge/say-thanks-ff69b4.svg)](https://www.buymeacoffee.com/jackmckew)\n",
    "\n",
    "**Pandas_Alive** is intended to provide a plotting backend for animated [matplotlib](https://matplotlib.org/) charts for [Pandas](https://pandas.pydata.org/) DataFrames, similar to the already [existing Visualization feature of Pandas](https://pandas.pydata.org/pandas-docs/stable/visualization.html).\n",
    "\n",
    "With **Pandas_Alive**, creating stunning, animated visualisations is as easy as calling:\n",
    "\n",
    "`df.plot_animated()`\n",
    "\n",
    "![Example Bar Chart](examples/example-barh-chart.gif)"
   ]
  },
  {
   "cell_type": "markdown",
   "metadata": {},
   "source": [
    "## Table of Contents\n",
    "<!-- START doctoc -->\n",
    "<!-- END doctoc -->"
   ]
  },
  {
   "cell_type": "markdown",
   "metadata": {},
   "source": [
    "## Installation\n",
    "\n",
    "Install with `pip install pandas_alive`\n",
    "\n",
    "## Usage\n",
    "\n",
    "As this package was inspired by [`bar_chart_race`](https://github.com/dexplo/bar_chart_race), the example data set is sourced from there.\n",
    "\n",
    "Must begin with a pandas DataFrame containing 'wide' data where:\n",
    "\n",
    "- Every row represents a single period of time\n",
    "- Each column holds the value for a particular category\n",
    "- The index contains the time component (optional)\n",
    "\n",
    "The data below is an example of properly formatted data. It shows total deaths from COVID-19 for the highest 20 countries by date.\n",
    "\n",
    "![Example Data Table](https://raw.githubusercontent.com/dexplo/bar_chart_race/master/docs/images/wide_data.png)\n",
    "\n",
    "To produce the above visualisation:\n",
    "\n",
    "- Check [Requirements](#requirements) first to ensure you have the tooling installed!\n",
    "- Call `plot_animated()` on the DataFrame\n",
    "    - Either specify a file name to write to with `df.plot_animated(filename='example.mp4')` or use `df.plot_animated().get_html5_video` to return a HTML5 video\n",
    "- Done!"
   ]
  },
  {
   "cell_type": "code",
   "execution_count": null,
   "metadata": {},
   "outputs": [],
   "source": [
    "import pandas_alive\n",
    "\n",
    "covid_df = pandas_alive.load_dataset()\n",
    "\n",
    "covid_df.plot_animated(filename='examples/example-barh-chart.gif')"
   ]
  },
  {
   "cell_type": "markdown",
   "metadata": {},
   "source": [
    "### Currently Supported Chart Types\n",
    "\n",
    "#### Horizontal Bar Chart Races"
   ]
  },
  {
   "cell_type": "code",
   "execution_count": null,
   "metadata": {},
   "outputs": [],
   "source": [
    "import pandas as pd\n",
    "import pandas_alive\n",
    "\n",
    "elec_df = pd.read_csv(\"data/Aus_Elec_Gen_1980_2018.csv\",index_col=0,parse_dates=[0],thousands=',')\n",
    "\n",
    "elec_df.fillna(0).plot_animated('examples/example-electricity-generated-australia.gif',period_fmt=\"%Y\",title='Australian Electricity Generation Sources 1980-2018')"
   ]
  },
  {
   "cell_type": "markdown",
   "metadata": {},
   "source": [
    "![Electricity Example Line Chart](examples/example-electricity-generated-australia.gif)"
   ]
  },
  {
   "cell_type": "code",
   "execution_count": null,
   "metadata": {},
   "outputs": [],
   "source": [
    "import pandas_alive\n",
    "\n",
    "covid_df = pandas_alive.load_dataset()\n",
    "\n",
    "def current_total(values):\n",
    "    total = values.sum()\n",
    "    s = f'Total : {int(total)}'\n",
    "    return {'x': .85, 'y': .2, 's': s, 'ha': 'right', 'size': 11}\n",
    "\n",
    "covid_df.plot_animated(filename='examples/summary-func-example.gif',period_summary_func=current_total)"
   ]
  },
  {
   "cell_type": "markdown",
   "metadata": {},
   "source": [
    "![Summary Func Example](examples/summary-func-example.gif)"
   ]
  },
  {
   "cell_type": "code",
   "execution_count": null,
   "metadata": {},
   "outputs": [],
   "source": [
    "import pandas as pd\n",
    "import pandas_alive\n",
    "\n",
    "elec_df = pd.read_csv(\"data/Aus_Elec_Gen_1980_2018.csv\",index_col=0,parse_dates=[0],thousands=',')\n",
    "\n",
    "elec_df.fillna(0).plot_animated('examples/fixed-example.gif',period_fmt=\"%Y\",title='Australian Electricity Generation Sources 1980-2018',fixed_max=True,fixed_order=True)"
   ]
  },
  {
   "cell_type": "markdown",
   "metadata": {},
   "source": [
    "![Fixed Example](examples/fixed-example.gif)"
   ]
  },
  {
   "cell_type": "code",
   "execution_count": null,
   "metadata": {},
   "outputs": [],
   "source": [
    "import pandas_alive\n",
    "\n",
    "covid_df = pandas_alive.load_dataset()\n",
    "\n",
    "covid_df.plot_animated(filename='examples/perpendicular-example.gif',perpendicular_bar_func='mean')"
   ]
  },
  {
   "cell_type": "markdown",
   "metadata": {},
   "source": [
    "![Perpendicular Example](examples/perpendicular-example.gif)"
   ]
  },
  {
   "cell_type": "markdown",
   "metadata": {},
   "source": [
    "#### Vertical Bar Chart Races"
   ]
  },
  {
   "cell_type": "code",
   "execution_count": null,
   "metadata": {},
   "outputs": [],
   "source": [
    "import pandas_alive\n",
    "\n",
    "covid_df = pandas_alive.load_dataset()\n",
    "\n",
    "covid_df.plot_animated(filename='examples/example-barv-chart.gif',orientation='v')"
   ]
  },
  {
   "cell_type": "markdown",
   "metadata": {},
   "source": [
    "![Example Barv Chart](examples/example-barv-chart.gif)"
   ]
  },
  {
   "cell_type": "markdown",
   "metadata": {},
   "source": [
    "#### Line Charts\n",
    "\n",
    "With as many lines as data columns in the DataFrame."
   ]
  },
  {
   "cell_type": "code",
   "execution_count": null,
   "metadata": {},
   "outputs": [],
   "source": [
    "import pandas_alive\n",
    "\n",
    "covid_df = pandas_alive.load_dataset()\n",
    "\n",
    "covid_df.diff().fillna(0).plot_animated(filename='examples/example-line-chart.gif',kind='line',period_label={'x':0.1,'y':0.9})"
   ]
  },
  {
   "cell_type": "markdown",
   "metadata": {},
   "source": [
    "![Example Line Chart](examples/example-line-chart.gif)\n"
   ]
  },
  {
   "cell_type": "markdown",
   "metadata": {},
   "source": [
    "#### Bar Charts\n",
    "\n",
    "Similar to line charts with time as the x-axis"
   ]
  },
  {
   "cell_type": "code",
   "execution_count": null,
   "metadata": {},
   "outputs": [],
   "source": [
    "import pandas_alive\n",
    "\n",
    "covid_df = pandas_alive.load_dataset()\n",
    "\n",
    "covid_df.sum(axis=1).fillna(0).plot_animated(filename='examples/example-bar-chart.gif',kind='bar',period_label={'x':0.1,'y':0.9})"
   ]
  },
  {
   "cell_type": "markdown",
   "metadata": {},
   "source": [
    "![Example Bar Chart](examples/example-bar-chart.gif)"
   ]
  },
  {
   "cell_type": "markdown",
   "metadata": {},
   "source": [
    "#### Scatter Charts"
   ]
  },
  {
   "cell_type": "code",
   "execution_count": null,
   "metadata": {},
   "outputs": [],
   "source": [
    "import pandas as pd\n",
    "import pandas_alive\n",
    "\n",
    "max_temp_df = pd.read_csv(\n",
    "    \"data/Newcastle_Australia_Max_Temps.csv\",\n",
    "    parse_dates={\"Timestamp\": [\"Year\", \"Month\", \"Day\"]},\n",
    ")\n",
    "min_temp_df = pd.read_csv(\n",
    "    \"data/Newcastle_Australia_Min_Temps.csv\",\n",
    "    parse_dates={\"Timestamp\": [\"Year\", \"Month\", \"Day\"]},\n",
    ")\n",
    "\n",
    "merged_temp_df = pd.merge_asof(max_temp_df, min_temp_df, on=\"Timestamp\")\n",
    "\n",
    "merged_temp_df.index = pd.to_datetime(merged_temp_df[\"Timestamp\"].dt.strftime('%Y/%m/%d'))\n",
    "\n",
    "keep_columns = [\"Minimum temperature (Degree C)\", \"Maximum temperature (Degree C)\"]\n",
    "\n",
    "merged_temp_df[keep_columns].resample(\"Y\").mean().plot_animated(filename='examples/example-scatter-chart.gif',kind=\"scatter\",title='Max & Min Temperature Newcastle, Australia')\n"
   ]
  },
  {
   "cell_type": "markdown",
   "metadata": {},
   "source": [
    "![Example Scatter Chart](examples/example-scatter-chart.gif)"
   ]
  },
  {
   "cell_type": "markdown",
   "metadata": {},
   "source": [
    "#### Pie Charts"
   ]
  },
  {
   "cell_type": "code",
   "execution_count": null,
   "metadata": {},
   "outputs": [],
   "source": [
    "import pandas_alive\n",
    "\n",
    "covid_df = pandas_alive.load_dataset()\n",
    "\n",
    "covid_df.plot_animated(filename='examples/example-pie-chart.gif',kind=\"pie\",rotatelabels=True,period_label={'x':0,'y':0})"
   ]
  },
  {
   "cell_type": "markdown",
   "metadata": {},
   "source": [
    "![Example Pie Chart](examples/example-pie-chart.gif)"
   ]
  },
  {
   "cell_type": "markdown",
   "metadata": {},
   "source": [
    "#### Bubble Charts\n",
    "\n",
    "Bubble charts are generated from a multi-indexed dataframes. Where the index is the time period (optional) and the axes are defined with `x_data_label` & `y_data_label` which should be passed a string in the level 0 column labels.\n",
    "\n",
    "See an example multi-indexed dataframe at: <https://github.com/JackMcKew/pandas_alive/tree/master/data/multi.csv>"
   ]
  },
  {
   "cell_type": "code",
   "execution_count": null,
   "metadata": {},
   "outputs": [],
   "source": [
    "import pandas_alive\n",
    "\n",
    "multi_index_df = pd.read_csv(\"data/multi.csv\", header=[0, 1], index_col=0)\n",
    "\n",
    "multi_index_df.index = pd.to_datetime(multi_index_df.index,dayfirst=True)\n",
    "\n",
    "map_chart = multi_index_df.plot_animated(\n",
    "    kind=\"bubble\",\n",
    "    filename=\"examples/example-bubble-chart.gif\",\n",
    "    x_data_label=\"Longitude\",\n",
    "    y_data_label=\"Latitude\",\n",
    "    size_data_label=\"Cases\",\n",
    ")"
   ]
  },
  {
   "cell_type": "markdown",
   "metadata": {},
   "source": [
    "![Bubble Chart Example](examples/example-bubble-chart.gif)"
   ]
  },
  {
   "cell_type": "markdown",
   "metadata": {},
   "source": [
    "#### GeoSpatial Charts\n",
    "\n",
    "GeoSpatial charts can now be animated easily using [`geopandas`](https://geopandas.org/index.html)!\n",
    "\n",
    "> If using Windows, [anaconda](https://www.anaconda.com/) is the easiest way to install with all GDAL dependancies.\n",
    "\n",
    "Must begin with a `geopandas` GeoDataFrame containing 'wide' data where:\n",
    "\n",
    "- Every row represents a single geometry (Point or Polygon).\n",
    "    - The index contains the geometry label (optional)\n",
    "- Each column represents a single period in time.\n",
    "\n",
    "> These can be easily composed by transposing data compatible with the rest of the charts using `df = df.T`.\n",
    "\n",
    "##### GeoSpatial Point Charts"
   ]
  },
  {
   "cell_type": "code",
   "execution_count": null,
   "metadata": {},
   "outputs": [],
   "source": [
    "import geopandas\n",
    "import pandas_alive\n",
    "import contextily\n",
    "\n",
    "gdf = geopandas.read_file('data/nsw-covid19-cases-by-postcode.gpkg')\n",
    "gdf.index = gdf.postcode\n",
    "gdf = gdf.drop('postcode',axis=1)\n",
    "\n",
    "map_chart = gdf.plot_animated(filename='examples/example-geo-point-chart.gif',basemap_format={'source':contextily.providers.Stamen.Terrain})"
   ]
  },
  {
   "cell_type": "markdown",
   "metadata": {},
   "source": [
    "![Example Point GeoSpatialChart](examples/example-geo-point-chart.gif)"
   ]
  },
  {
   "cell_type": "markdown",
   "metadata": {},
   "source": [
    "##### Polygon GeoSpatial Charts\n",
    "\n",
    "Supports GeoDataFrames containing Polygons!"
   ]
  },
  {
   "cell_type": "code",
   "execution_count": null,
   "metadata": {},
   "outputs": [],
   "source": [
    "import geopandas\n",
    "import pandas_alive\n",
    "import contextily\n",
    "\n",
    "gdf = geopandas.read_file('data/italy-covid-region.gpkg')\n",
    "gdf.index = gdf.region\n",
    "gdf = gdf.drop('region',axis=1)\n",
    "\n",
    "map_chart = gdf.plot_animated(filename='examples/example-geo-polygon-chart.gif',basemap_format={'source':contextily.providers.Stamen.Terrain})"
   ]
  },
  {
   "cell_type": "markdown",
   "metadata": {},
   "source": [
    "![Example Polygon GeoSpatialChart](examples/example-geo-polygon-chart.gif)"
   ]
  },
  {
   "cell_type": "markdown",
   "metadata": {},
   "source": [
    "### Multiple Charts\n",
    "\n",
    "`pandas_alive` supports multiple animated charts in a single visualisation.\n",
    "\n",
    "- Create a list of all charts to include in animation\n",
    "- Use `animate_multiple_plots` with a `filename` and the list of charts (this will use `matplotlib.subplots`)\n",
    "- Done!"
   ]
  },
  {
   "cell_type": "code",
   "execution_count": null,
   "metadata": {},
   "outputs": [],
   "source": [
    "import pandas_alive\n",
    "\n",
    "covid_df = pandas_alive.load_dataset()\n",
    "\n",
    "animated_line_chart = covid_df.diff().fillna(0).plot_animated(kind='line',period_label=False)\n",
    "\n",
    "animated_bar_chart = covid_df.plot_animated(n_visible=10)\n",
    "\n",
    "pandas_alive.animate_multiple_plots('examples/example-bar-and-line-chart.gif',[animated_bar_chart,animated_line_chart])"
   ]
  },
  {
   "cell_type": "markdown",
   "metadata": {},
   "source": [
    "![Example Bar & Line Chart](examples/example-bar-and-line-chart.gif)"
   ]
  },
  {
   "cell_type": "markdown",
   "metadata": {},
   "source": [
    "#### Urban Population"
   ]
  },
  {
   "cell_type": "code",
   "execution_count": null,
   "metadata": {},
   "outputs": [],
   "source": [
    "import pandas_alive\n",
    "\n",
    "urban_df = pandas_alive.load_dataset(\"urban_pop\")\n",
    "\n",
    "animated_line_chart = (\n",
    "    urban_df.sum(axis=1)\n",
    "    .pct_change()\n",
    "    .dropna()\n",
    "    .mul(100)\n",
    "    .plot_animated(kind=\"line\", title=\"Total % Change in Population\",period_label=False)\n",
    ")\n",
    "\n",
    "animated_bar_chart = urban_df.plot_animated(n_visible=10,title='Top 10 Populous Countries',period_fmt=\"%Y\")\n",
    "\n",
    "pandas_alive.animate_multiple_plots('examples/example-bar-and-line-urban-chart.gif',[animated_bar_chart,animated_line_chart],title='Urban Population 1977 - 2018',adjust_subplot_top=0.85)"
   ]
  },
  {
   "cell_type": "markdown",
   "metadata": {},
   "source": [
    "![Urban Population Bar & Line Chart](examples/example-bar-and-line-urban-chart.gif)\n"
   ]
  },
  {
   "cell_type": "markdown",
   "metadata": {},
   "source": [
    "#### Life Expectancy in G7 Countries"
   ]
  },
  {
   "cell_type": "code",
   "execution_count": null,
   "metadata": {},
   "outputs": [],
   "source": [
    "import pandas_alive\n",
    "import pandas as pd\n",
    "\n",
    "data_raw = pd.read_csv(\n",
    "    \"https://raw.githubusercontent.com/owid/owid-datasets/master/datasets/Long%20run%20life%20expectancy%20-%20Gapminder%2C%20UN/Long%20run%20life%20expectancy%20-%20Gapminder%2C%20UN.csv\"\n",
    ")\n",
    "\n",
    "list_G7 = [\n",
    "    \"Canada\",\n",
    "    \"France\",\n",
    "    \"Germany\",\n",
    "    \"Italy\",\n",
    "    \"Japan\",\n",
    "    \"United Kingdom\",\n",
    "    \"United States\",\n",
    "]\n",
    "\n",
    "data_raw = data_raw.pivot(\n",
    "    index=\"Year\", columns=\"Entity\", values=\"Life expectancy (Gapminder, UN)\"\n",
    ")\n",
    "\n",
    "data = pd.DataFrame()\n",
    "data[\"Year\"] = data_raw.reset_index()[\"Year\"]\n",
    "for country in list_G7:\n",
    "    data[country] = data_raw[country].values\n",
    "\n",
    "data = data.fillna(method=\"pad\")\n",
    "data = data.fillna(0)\n",
    "data = data.set_index(\"Year\").loc[1900:].reset_index()\n",
    "\n",
    "data[\"Year\"] = pd.to_datetime(data.reset_index()[\"Year\"].astype(str))\n",
    "\n",
    "data = data.set_index(\"Year\")\n",
    "\n",
    "animated_bar_chart = data.plot_animated(\n",
    "    period_fmt=\"%Y\",perpendicular_bar_func=\"mean\", period_length=200,fixed_max=True\n",
    ")\n",
    "\n",
    "animated_line_chart = data.plot_animated(\n",
    "    kind=\"line\", period_fmt=\"%Y\", period_length=200,fixed_max=True\n",
    ")\n",
    "\n",
    "pandas_alive.animate_multiple_plots(\n",
    "    \"examples/life-expectancy.gif\",\n",
    "    plots=[animated_bar_chart, animated_line_chart],\n",
    "    title=\"Life expectancy in G7 countries up to 2015\",\n",
    "    adjust_subplot_left=0.2,\n",
    ")\n"
   ]
  },
  {
   "cell_type": "markdown",
   "metadata": {},
   "source": [
    "![Life Expectancy Chart](examples/life-expectancy.gif)"
   ]
  },
  {
   "cell_type": "markdown",
   "metadata": {},
   "source": [
    "##### NSW COVID Visualisation"
   ]
  },
  {
   "cell_type": "code",
   "execution_count": null,
   "metadata": {},
   "outputs": [],
   "source": [
    "import geopandas\n",
    "import pandas as pd\n",
    "import pandas_alive\n",
    "import contextily\n",
    "import matplotlib.pyplot as plt\n",
    "\n",
    "import urllib.request, json\n",
    "\n",
    "with urllib.request.urlopen(\n",
    "    \"https://data.nsw.gov.au/data/api/3/action/package_show?id=aefcde60-3b0c-4bc0-9af1-6fe652944ec2\"\n",
    ") as url:\n",
    "    data = json.loads(url.read().decode())\n",
    "\n",
    "# Extract url to csv component\n",
    "covid_nsw_data_url = data[\"result\"][\"resources\"][0][\"url\"]\n",
    "\n",
    "# Read csv from data API url\n",
    "nsw_covid = pd.read_csv(covid_nsw_data_url)\n",
    "postcode_dataset = pd.read_csv(\"data/postcode-data.csv\")\n",
    "\n",
    "# Prepare data from NSW health dataset\n",
    "\n",
    "\n",
    "nsw_covid = nsw_covid.fillna(9999)\n",
    "nsw_covid[\"postcode\"] = nsw_covid[\"postcode\"].astype(int)\n",
    "\n",
    "grouped_df = nsw_covid.groupby([\"notification_date\", \"postcode\"]).size()\n",
    "grouped_df = pd.DataFrame(grouped_df).unstack()\n",
    "grouped_df.columns = grouped_df.columns.droplevel().astype(str)\n",
    "\n",
    "grouped_df = grouped_df.fillna(0)\n",
    "grouped_df.index = pd.to_datetime(grouped_df.index)\n",
    "\n",
    "cases_df = grouped_df\n",
    "\n",
    "# Clean data in postcode dataset prior to matching\n",
    "\n",
    "grouped_df = grouped_df.T\n",
    "postcode_dataset = postcode_dataset[postcode_dataset['Longitude'].notna()]\n",
    "postcode_dataset = postcode_dataset[postcode_dataset['Longitude'] != 0]\n",
    "postcode_dataset = postcode_dataset[postcode_dataset['Latitude'].notna()]\n",
    "postcode_dataset = postcode_dataset[postcode_dataset['Latitude'] != 0]\n",
    "postcode_dataset['Postcode'] = postcode_dataset['Postcode'].astype(str)\n",
    "\n",
    "# Build GeoDataFrame from Lat Long dataset and make map chart\n",
    "grouped_df['Longitude'] = grouped_df.index.map(postcode_dataset.set_index('Postcode')['Longitude'].to_dict())\n",
    "grouped_df['Latitude'] = grouped_df.index.map(postcode_dataset.set_index('Postcode')['Latitude'].to_dict())\n",
    "gdf = geopandas.GeoDataFrame(\n",
    "    grouped_df, geometry=geopandas.points_from_xy(grouped_df.Longitude, grouped_df.Latitude),crs=\"EPSG:4326\")\n",
    "gdf = gdf.dropna()\n",
    "\n",
    "# Prepare GeoDataFrame for writing to geopackage\n",
    "gdf = gdf.drop(['Longitude','Latitude'],axis=1)\n",
    "gdf.columns = gdf.columns.astype(str)\n",
    "gdf['postcode'] = gdf.index\n",
    "gdf.to_file(\"data/nsw-covid19-cases-by-postcode.gpkg\", layer='nsw-postcode-covid', driver=\"GPKG\")\n",
    "\n",
    "# Prepare GeoDataFrame for plotting\n",
    "gdf.index = gdf.postcode\n",
    "gdf = gdf.drop('postcode',axis=1)\n",
    "gdf = gdf.to_crs(\"EPSG:3857\") #Web Mercator\n",
    "\n",
    "map_chart = gdf.plot_animated(basemap_format={'source':contextily.providers.Stamen.Terrain},cmap='cool')\n",
    "\n",
    "cases_df.to_csv('data/nsw-covid-cases-by-postcode.csv')\n",
    "\n",
    "from datetime import datetime\n",
    "\n",
    "bar_chart = cases_df.sum(axis=1).plot_animated(\n",
    "    kind='line',\n",
    "    label_events={\n",
    "        'Ruby Princess Disembark':datetime.strptime(\"19/03/2020\", \"%d/%m/%Y\"),\n",
    "        'Lockdown':datetime.strptime(\"31/03/2020\", \"%d/%m/%Y\")\n",
    "    },\n",
    "    fill_under_line_color=\"blue\",\n",
    "    enable_progress_bar=True\n",
    ")\n",
    "\n",
    "map_chart.ax.set_title('Cases by Location')\n",
    "\n",
    "grouped_df = pd.read_csv('data/nsw-covid-cases-by-postcode.csv', index_col=0, parse_dates=[0])\n",
    "\n",
    "line_chart = (\n",
    "    grouped_df.sum(axis=1)\n",
    "    .cumsum()\n",
    "    .fillna(0)\n",
    "    .plot_animated(kind=\"line\", period_label=False, title=\"Cumulative Total Cases\")\n",
    ")\n",
    "\n",
    "\n",
    "def current_total(values):\n",
    "    total = values.sum()\n",
    "    s = f'Total : {int(total)}'\n",
    "    return {'x': .85, 'y': .2, 's': s, 'ha': 'right', 'size': 11}\n",
    "\n",
    "race_chart = grouped_df.cumsum().plot_animated(\n",
    "    n_visible=5, title=\"Cases by Postcode\", period_label=False,period_summary_func=current_total\n",
    ")\n",
    "\n",
    "import time\n",
    "\n",
    "timestr = time.strftime(\"%d/%m/%Y\")\n",
    "\n",
    "plots = [bar_chart, line_chart, map_chart, race_chart]\n",
    "\n",
    "from matplotlib import rcParams\n",
    "\n",
    "rcParams.update({\"figure.autolayout\": False})\n",
    "\n",
    "figs = plt.figure()\n",
    "gs = figs.add_gridspec(2, 3, hspace=0.5)\n",
    "f3_ax1 = figs.add_subplot(gs[0, :])\n",
    "f3_ax1.set_title(bar_chart.title)\n",
    "bar_chart.ax = f3_ax1\n",
    "\n",
    "f3_ax2 = figs.add_subplot(gs[1, 0])\n",
    "f3_ax2.set_title(line_chart.title)\n",
    "line_chart.ax = f3_ax2\n",
    "\n",
    "f3_ax3 = figs.add_subplot(gs[1, 1])\n",
    "f3_ax3.set_title(map_chart.title)\n",
    "map_chart.ax = f3_ax3\n",
    "\n",
    "f3_ax4 = figs.add_subplot(gs[1, 2])\n",
    "f3_ax4.set_title(race_chart.title)\n",
    "race_chart.ax = f3_ax4\n",
    "\n",
    "timestr = cases_df.index.max().strftime(\"%d/%m/%Y\")\n",
    "figs.suptitle(f\"NSW COVID-19 Confirmed Cases up to {timestr}\")\n",
    "\n",
    "pandas_alive.animate_multiple_plots(\n",
    "    'examples/nsw-covid.gif',\n",
    "    plots,\n",
    "    figs\n",
    ")"
   ]
  },
  {
   "cell_type": "markdown",
   "metadata": {},
   "source": [
    "![NSW COVID](examples/nsw-covid.gif)"
   ]
  },
  {
   "cell_type": "markdown",
   "metadata": {},
   "source": [
    "##### Italy COVID Visualisation"
   ]
  },
  {
   "cell_type": "code",
   "execution_count": null,
   "metadata": {},
   "outputs": [],
   "source": [
    "import geopandas\n",
    "import pandas as pd\n",
    "import pandas_alive\n",
    "import contextily\n",
    "import matplotlib.pyplot as plt\n",
    "\n",
    "\n",
    "region_gdf = geopandas.read_file('data\\geo-data\\italy-with-regions')\n",
    "region_gdf.NOME_REG = region_gdf.NOME_REG.str.lower().str.title()\n",
    "region_gdf = region_gdf.replace('Trentino-Alto Adige/Sudtirol','Trentino-Alto Adige')\n",
    "region_gdf = region_gdf.replace(\"Valle D'Aosta/VallÃ©e D'Aoste\\r\\nValle D'Aosta/VallÃ©e D'Aoste\",\"Valle d'Aosta\")\n",
    "\n",
    "italy_df = pd.read_csv('data\\Regional Data - Sheet1.csv',index_col=0,header=1,parse_dates=[0])\n",
    "\n",
    "italy_df = italy_df[italy_df['Region'] != 'NA']\n",
    "\n",
    "cases_df = italy_df.iloc[:,:3]\n",
    "cases_df['Date'] = cases_df.index\n",
    "pivoted = cases_df.pivot(values='New positives',index='Date',columns='Region')\n",
    "pivoted.columns = pivoted.columns.astype(str)\n",
    "pivoted = pivoted.rename(columns={'nan':'Unknown Region'})\n",
    "\n",
    "cases_gdf = pivoted.T\n",
    "cases_gdf['geometry'] = cases_gdf.index.map(region_gdf.set_index('NOME_REG')['geometry'].to_dict())\n",
    "\n",
    "cases_gdf = cases_gdf[cases_gdf['geometry'].notna()]\n",
    "\n",
    "cases_gdf = geopandas.GeoDataFrame(cases_gdf, crs=region_gdf.crs, geometry=cases_gdf.geometry)\n",
    "\n",
    "gdf = cases_gdf\n",
    "\n",
    "map_chart = gdf.plot_animated(basemap_format={'source':contextily.providers.Stamen.Terrain},cmap='viridis')\n",
    "\n",
    "cases_df = pivoted\n",
    "\n",
    "from datetime import datetime\n",
    "\n",
    "bar_chart = cases_df.sum(axis=1).plot_animated(\n",
    "    kind='line',\n",
    "    label_events={\n",
    "        'Schools Close':datetime.strptime(\"4/03/2020\", \"%d/%m/%Y\"),\n",
    "        'Phase I Lockdown':datetime.strptime(\"11/03/2020\", \"%d/%m/%Y\"),\n",
    "        '1M Global Cases':datetime.strptime(\"02/04/2020\", \"%d/%m/%Y\"),\n",
    "        '100k Global Deaths':datetime.strptime(\"10/04/2020\", \"%d/%m/%Y\"),\n",
    "        'Manufacturing Reopens':datetime.strptime(\"26/04/2020\", \"%d/%m/%Y\"),\n",
    "        'Phase II Lockdown':datetime.strptime(\"4/05/2020\", \"%d/%m/%Y\"),\n",
    "\n",
    "    },\n",
    "    fill_under_line_color=\"blue\",\n",
    "    enable_progress_bar=True\n",
    ")\n",
    "\n",
    "map_chart.ax.set_title('Cases by Location')\n",
    "\n",
    "line_chart = (\n",
    "    cases_df.sum(axis=1)\n",
    "    .cumsum()\n",
    "    .fillna(0)\n",
    "    .plot_animated(kind=\"line\", period_label=False, title=\"Cumulative Total Cases\")\n",
    ")\n",
    "\n",
    "\n",
    "def current_total(values):\n",
    "    total = values.sum()\n",
    "    s = f'Total : {int(total)}'\n",
    "    return {'x': .85, 'y': .2, 's': s, 'ha': 'right', 'size': 11}\n",
    "\n",
    "race_chart = cases_df.cumsum().plot_animated(\n",
    "    n_visible=5, title=\"Cases by Region\", period_label=False,period_summary_func=current_total\n",
    ")\n",
    "\n",
    "import time\n",
    "\n",
    "timestr = time.strftime(\"%d/%m/%Y\")\n",
    "\n",
    "plots = [bar_chart, race_chart, map_chart, line_chart]\n",
    "\n",
    "# Otherwise titles overlap and adjust_subplot does nothing\n",
    "from matplotlib import rcParams\n",
    "from matplotlib.animation import FuncAnimation\n",
    "\n",
    "rcParams.update({\"figure.autolayout\": False})\n",
    "\n",
    "figs = plt.figure()\n",
    "gs = figs.add_gridspec(2, 3, hspace=0.5)\n",
    "f3_ax1 = figs.add_subplot(gs[0, :])\n",
    "f3_ax1.set_title(bar_chart.title)\n",
    "bar_chart.ax = f3_ax1\n",
    "\n",
    "f3_ax2 = figs.add_subplot(gs[1, 0])\n",
    "f3_ax2.set_title(race_chart.title)\n",
    "race_chart.ax = f3_ax2\n",
    "\n",
    "f3_ax3 = figs.add_subplot(gs[1, 1])\n",
    "f3_ax3.set_title(map_chart.title)\n",
    "map_chart.ax = f3_ax3\n",
    "\n",
    "f3_ax4 = figs.add_subplot(gs[1, 2])\n",
    "f3_ax4.set_title(line_chart.title)\n",
    "line_chart.ax = f3_ax4\n",
    "\n",
    "axes = [f3_ax1, f3_ax2, f3_ax3, f3_ax4]\n",
    "timestr = cases_df.index.max().strftime(\"%d/%m/%Y\")\n",
    "figs.suptitle(f\"Italy COVID-19 Confirmed Cases up to {timestr}\")\n",
    "\n",
    "pandas_alive.animate_multiple_plots(\n",
    "    'examples/italy-covid.gif',\n",
    "    plots,\n",
    "    figs\n",
    ")"
   ]
  },
  {
   "cell_type": "markdown",
   "metadata": {},
   "source": [
    "![Italy COVID](examples/italy-covid.gif)"
   ]
  },
  {
   "cell_type": "markdown",
   "metadata": {},
   "source": [
    "### HTML 5 Videos\n",
    "\n",
    "`Pandas_Alive` supports rendering HTML5 videos through the use of `df.plot_animated().get_html5_video()`. `.get_html5_video` saves the animation as an h264 video, encoded in base64 directly into the HTML5 video tag. This respects the rc parameters for the writer as well as the bitrate. This also makes use of the interval to control the speed, and uses the repeat parameter to decide whether to loop.\n",
    "\n",
    "This is typically used in Jupyter notebooks."
   ]
  },
  {
   "cell_type": "code",
   "execution_count": null,
   "metadata": {
    "tags": [
     "outputPrepend"
    ]
   },
   "outputs": [],
   "source": [
    "import pandas_alive\n",
    "from IPython.display import HTML\n",
    "\n",
    "covid_df = pandas_alive.load_dataset()\n",
    "\n",
    "animated_html = covid_df.plot_animated().get_html5_video()\n",
    "\n",
    "HTML(animated_html)"
   ]
  },
  {
   "cell_type": "markdown",
   "metadata": {},
   "source": [
    "### Progress Bars!\n",
    "\n",
    "Generating animations can take some time, so enable progress bars by installing [tqdm](https://github.com/tqdm/tqdm) with `pip install tqdm` and using the keyword `enable_progress_bar=True`.\n",
    "\n",
    "By default Pandas_Alive will create a `tqdm` progress bar for the number of frames to animate, and update the progres bar after each frame."
   ]
  },
  {
   "cell_type": "code",
   "execution_count": null,
   "metadata": {},
   "outputs": [],
   "source": [
    "import pandas_alive\n",
    "\n",
    "covid_df = pandas_alive.load_dataset()\n",
    "\n",
    "covid_df.plot_animated(enable_progress_bar=True)"
   ]
  },
  {
   "cell_type": "markdown",
   "metadata": {},
   "source": [
    "Example of TQDM in action:\n",
    "\n",
    "![TQDM Example](https://raw.githubusercontent.com/tqdm/tqdm/master/images/tqdm.gif)"
   ]
  },
  {
   "cell_type": "markdown",
   "metadata": {},
   "source": [
    "## Future Features\n",
    "\n",
    "A list of future features that may/may not be developed is:\n",
    "\n",
    "- ~~Geographic charts (currently using OSM export image, potential [geopandas](https://geopandas.org/))~~\n",
    "- ~~Loading bar support (potential [tqdm](https://github.com/tqdm/tqdm) or [alive-progress](https://github.com/rsalmei/alive-progress))~~\n",
    "- ~~Potentially support writing to GIF in memory with <https://github.com/maxhumber/gif>~~\n",
    "- ~~Support custom figures & axes for multiple plots (eg, gridspec)~~"
   ]
  },
  {
   "cell_type": "markdown",
   "metadata": {},
   "source": [
    "## Inspiration\n",
    "\n",
    "The inspiration for this project comes from:\n",
    "\n",
    "- [bar_chart_race](https://github.com/dexplo/bar_chart_race) by [Ted Petrou](https://github.com/tdpetrou)\n",
    "- [Pandas-Bokeh](https://github.com/PatrikHlobil/Pandas-Bokeh) by [Patrik Hlobil](https://github.com/PatrikHlobil)\n",
    "\n",
    "## Requirements\n",
    "\n",
    "If you get an error such as `TypeError: 'MovieWriterRegistry' object is not an iterator`, this signals there isn't a writer library installed on your machine.\n",
    "\n",
    "This package utilises the [matplotlib.animation function](https://matplotlib.org/3.2.1/api/animation_api.html), thus requiring a writer library.\n",
    "\n",
    "Ensure to have one of the supported tooling software installed prior to use!\n",
    "\n",
    "- [ffmpeg](https://ffmpeg.org/)\n",
    "- [ImageMagick](https://imagemagick.org/index.php)\n",
    "- See more at <https://matplotlib.org/3.2.1/api/animation_api.html#writer-classes>\n",
    "\n",
    "> If the output file name has an extension of `.gif`, `pandas_alive` will write this with `PIL` in memory\n",
    "\n",
    "## Documentation\n",
    "\n",
    "Documentation is provided at <https://jackmckew.github.io/pandas_alive/>\n",
    "\n",
    "## Contributing\n",
    "\n",
    "Pull requests are welcome! Please help to cover more and more chart types!\n",
    "\n",
    "### Development\n",
    "\n",
    "To get started in development, clone a copy of this repository to your PC. This will now enable you to create a Jupyter notebook or a standalone `.py` file, and import `pandas_alive` as a local module. Now you can create new chart types in `pandas_alive/charts.py` or `pandas_alive/geocharts.py` to build to your hearts content!"
   ]
  },
  {
   "cell_type": "markdown",
   "metadata": {},
   "source": [
    "## [Changelog](CHANGELOG.md)"
   ]
  }
 ],
 "metadata": {
  "kernelspec": {
   "name": "python38364bitgeopandasenvcondae53cb4111ad246978ee51c976353b113",
   "display_name": "Python 3.8.3 64-bit ('geopandas_env': conda)"
  }
 },
 "nbformat": 4,
 "nbformat_minor": 4
}
